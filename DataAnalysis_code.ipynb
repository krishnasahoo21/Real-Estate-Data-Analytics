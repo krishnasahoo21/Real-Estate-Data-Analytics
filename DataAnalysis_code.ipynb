{
 "cells": [
  {
   "cell_type": "markdown",
   "metadata": {},
   "source": [
    "## Libraries"
   ]
  },
  {
   "cell_type": "code",
   "execution_count": 239,
   "metadata": {},
   "outputs": [],
   "source": [
    "import pandas as pd\n",
    "import numpy as np\n",
    "import json\n",
    "import matplotlib.pyplot as plt\n",
    "import seaborn as sns\n",
    "from scipy.stats import pearsonr\n",
    "import seaborn as sns\n"
   ]
  },
  {
   "cell_type": "markdown",
   "metadata": {},
   "source": [
    "## Importing the dataset from csv file to dataframe"
   ]
  },
  {
   "cell_type": "code",
   "execution_count": 240,
   "metadata": {},
   "outputs": [
    {
     "data": {
      "text/html": [
       "<div>\n",
       "<style scoped>\n",
       "    .dataframe tbody tr th:only-of-type {\n",
       "        vertical-align: middle;\n",
       "    }\n",
       "\n",
       "    .dataframe tbody tr th {\n",
       "        vertical-align: top;\n",
       "    }\n",
       "\n",
       "    .dataframe thead th {\n",
       "        text-align: right;\n",
       "    }\n",
       "</style>\n",
       "<table border=\"1\" class=\"dataframe\">\n",
       "  <thead>\n",
       "    <tr style=\"text-align: right;\">\n",
       "      <th></th>\n",
       "      <th>Price</th>\n",
       "      <th>Bed</th>\n",
       "      <th>Bath</th>\n",
       "      <th>Size</th>\n",
       "      <th>StreetAddress</th>\n",
       "      <th>City/State/Zip</th>\n",
       "      <th>Commute</th>\n",
       "      <th>Crime</th>\n",
       "      <th>URL</th>\n",
       "    </tr>\n",
       "  </thead>\n",
       "  <tbody>\n",
       "    <tr>\n",
       "      <th>0</th>\n",
       "      <td>$2,000,000</td>\n",
       "      <td>3 Beds</td>\n",
       "      <td>2 Baths</td>\n",
       "      <td>1,371 sqft</td>\n",
       "      <td>6571 Capri Way</td>\n",
       "      <td>San Jose, CA 95129</td>\n",
       "      <td>96% of residents commute by car.</td>\n",
       "      <td>Lowest crime relative to the rest of Santa Cla...</td>\n",
       "      <td>https://www.trulia.com/p/ca/san-jose/6571-capr...</td>\n",
       "    </tr>\n",
       "    <tr>\n",
       "      <th>1</th>\n",
       "      <td>$1,350,000</td>\n",
       "      <td>3 Beds</td>\n",
       "      <td>1 Bath</td>\n",
       "      <td>1,458 sqft</td>\n",
       "      <td>2023 Bray Ave</td>\n",
       "      <td>Santa Clara, CA 95050</td>\n",
       "      <td>92% of residents commute by car.</td>\n",
       "      <td>Moderate crime relative to the rest of Santa C...</td>\n",
       "      <td>https://www.trulia.com/p/ca/santa-clara/2023-b...</td>\n",
       "    </tr>\n",
       "    <tr>\n",
       "      <th>2</th>\n",
       "      <td>$1,375,000</td>\n",
       "      <td>3 Beds</td>\n",
       "      <td>2 Baths</td>\n",
       "      <td>1,250 sqft</td>\n",
       "      <td>1264 Maryann Dr</td>\n",
       "      <td>Santa Clara, CA 95050</td>\n",
       "      <td>92% of residents commute by car.</td>\n",
       "      <td>Lowest crime relative to the rest of Santa Cla...</td>\n",
       "      <td>https://www.trulia.com/p/ca/santa-clara/1264-m...</td>\n",
       "    </tr>\n",
       "    <tr>\n",
       "      <th>3</th>\n",
       "      <td>$2,100,000</td>\n",
       "      <td>4 Beds</td>\n",
       "      <td>2 Baths</td>\n",
       "      <td>2,113 sqft</td>\n",
       "      <td>1062 Castleton Way</td>\n",
       "      <td>Sunnyvale, CA 94087</td>\n",
       "      <td>94% of residents commute by car.</td>\n",
       "      <td>Lowest crime relative to the rest of Santa Cla...</td>\n",
       "      <td>https://www.trulia.com/p/ca/sunnyvale/1062-cas...</td>\n",
       "    </tr>\n",
       "    <tr>\n",
       "      <th>4</th>\n",
       "      <td>$1,888,000</td>\n",
       "      <td>3 Beds</td>\n",
       "      <td>2 Baths</td>\n",
       "      <td>1,674 sqft</td>\n",
       "      <td>683 Toyon Ave</td>\n",
       "      <td>Sunnyvale, CA 94086</td>\n",
       "      <td>92% of residents commute by car.</td>\n",
       "      <td>Low crime relative to the rest of Santa Clara ...</td>\n",
       "      <td>https://www.trulia.com/p/ca/sunnyvale/683-toyo...</td>\n",
       "    </tr>\n",
       "  </tbody>\n",
       "</table>\n",
       "</div>"
      ],
      "text/plain": [
       "        Price     Bed     Bath        Size       StreetAddress  \\\n",
       "0  $2,000,000  3 Beds  2 Baths  1,371 sqft      6571 Capri Way   \n",
       "1  $1,350,000  3 Beds   1 Bath  1,458 sqft       2023 Bray Ave   \n",
       "2  $1,375,000  3 Beds  2 Baths  1,250 sqft     1264 Maryann Dr   \n",
       "3  $2,100,000  4 Beds  2 Baths  2,113 sqft  1062 Castleton Way   \n",
       "4  $1,888,000  3 Beds  2 Baths  1,674 sqft       683 Toyon Ave   \n",
       "\n",
       "          City/State/Zip                           Commute  \\\n",
       "0     San Jose, CA 95129  96% of residents commute by car.   \n",
       "1  Santa Clara, CA 95050  92% of residents commute by car.   \n",
       "2  Santa Clara, CA 95050  92% of residents commute by car.   \n",
       "3    Sunnyvale, CA 94087  94% of residents commute by car.   \n",
       "4    Sunnyvale, CA 94086  92% of residents commute by car.   \n",
       "\n",
       "                                               Crime  \\\n",
       "0  Lowest crime relative to the rest of Santa Cla...   \n",
       "1  Moderate crime relative to the rest of Santa C...   \n",
       "2  Lowest crime relative to the rest of Santa Cla...   \n",
       "3  Lowest crime relative to the rest of Santa Cla...   \n",
       "4  Low crime relative to the rest of Santa Clara ...   \n",
       "\n",
       "                                                 URL  \n",
       "0  https://www.trulia.com/p/ca/san-jose/6571-capr...  \n",
       "1  https://www.trulia.com/p/ca/santa-clara/2023-b...  \n",
       "2  https://www.trulia.com/p/ca/santa-clara/1264-m...  \n",
       "3  https://www.trulia.com/p/ca/sunnyvale/1062-cas...  \n",
       "4  https://www.trulia.com/p/ca/sunnyvale/683-toyo...  "
      ]
     },
     "execution_count": 240,
     "metadata": {},
     "output_type": "execute_result"
    }
   ],
   "source": [
    "df=pd.read_csv('SFBayArea_Price.csv')\n",
    "df.head()"
   ]
  },
  {
   "cell_type": "code",
   "execution_count": 241,
   "metadata": {},
   "outputs": [
    {
     "data": {
      "text/plain": [
       "(243, 9)"
      ]
     },
     "execution_count": 241,
     "metadata": {},
     "output_type": "execute_result"
    }
   ],
   "source": [
    "df.shape"
   ]
  },
  {
   "cell_type": "markdown",
   "metadata": {},
   "source": [
    "## Data Cleaning"
   ]
  },
  {
   "cell_type": "markdown",
   "metadata": {},
   "source": [
    "### Checking duplicate rows "
   ]
  },
  {
   "cell_type": "code",
   "execution_count": 242,
   "metadata": {
    "scrolled": false
   },
   "outputs": [
    {
     "name": "stdout",
     "output_type": "stream",
     "text": [
      "Number of duplicate rows:  0\n"
     ]
    }
   ],
   "source": [
    "duplicateRowsDF = df[df.duplicated()]\n",
    "print(\"Number of duplicate rows: \",duplicateRowsDF.shape[0])\n",
    "# Drop the duplicate rows \n",
    "df = df.drop_duplicates()"
   ]
  },
  {
   "cell_type": "markdown",
   "metadata": {},
   "source": [
    "### Dropping the missing or null values"
   ]
  },
  {
   "cell_type": "code",
   "execution_count": 243,
   "metadata": {},
   "outputs": [
    {
     "name": "stdout",
     "output_type": "stream",
     "text": [
      "No. of rows with missing values:\n",
      " Price             0\n",
      "Bed               0\n",
      "Bath              0\n",
      "Size              3\n",
      "StreetAddress     0\n",
      "City/State/Zip    0\n",
      "Commute           0\n",
      "Crime             0\n",
      "URL               0\n",
      "dtype: int64\n",
      "After removing missing values:\n",
      " Price             0\n",
      "Bed               0\n",
      "Bath              0\n",
      "Size              0\n",
      "StreetAddress     0\n",
      "City/State/Zip    0\n",
      "Commute           0\n",
      "Crime             0\n",
      "URL               0\n",
      "dtype: int64\n"
     ]
    }
   ],
   "source": [
    "print(\"No. of rows with missing values:\\n\", df.isnull().sum())\n",
    "df = df.dropna()\n",
    "df\n",
    "print(\"After removing missing values:\\n\", df.isnull().sum()) # After dropping the values"
   ]
  },
  {
   "cell_type": "markdown",
   "metadata": {},
   "source": [
    "## Data Pre-processing"
   ]
  },
  {
   "cell_type": "code",
   "execution_count": 244,
   "metadata": {},
   "outputs": [
    {
     "data": {
      "text/plain": [
       "Price             object\n",
       "Bed               object\n",
       "Bath              object\n",
       "Size              object\n",
       "StreetAddress     object\n",
       "City/State/Zip    object\n",
       "Commute           object\n",
       "Crime             object\n",
       "URL               object\n",
       "dtype: object"
      ]
     },
     "execution_count": 244,
     "metadata": {},
     "output_type": "execute_result"
    }
   ],
   "source": [
    "df.dtypes"
   ]
  },
  {
   "cell_type": "markdown",
   "metadata": {},
   "source": [
    "### Extracting the useful information from String Variables"
   ]
  },
  {
   "cell_type": "code",
   "execution_count": 245,
   "metadata": {},
   "outputs": [
    {
     "data": {
      "text/plain": [
       "Price             float64\n",
       "Bed               float64\n",
       "Bath              float64\n",
       "Size              float64\n",
       "StreetAddress      object\n",
       "City/State/Zip     object\n",
       "Commute           float64\n",
       "Crime              object\n",
       "URL                object\n",
       "City               object\n",
       "dtype: object"
      ]
     },
     "execution_count": 245,
     "metadata": {},
     "output_type": "execute_result"
    }
   ],
   "source": [
    "df1 = df\n",
    "df1['Price'] = df1['Price'].map(lambda x: x.lstrip('$')).str.replace(\",\",\"\").astype(float)\n",
    "df1['Bed'] = df1['Bed'].map(lambda x: x.rstrip('Beds')).astype(float)\n",
    "df1['Bath'] = df1['Bath'].map(lambda x: x.rstrip('Baths')).astype(float)\n",
    "df1['Size'] = df1['Size'].map(lambda x: x.rstrip(' sqft'), na_action='ignore').str.replace(\",\",\"\").astype(float)\n",
    "df2 = df1['City/State/Zip'].apply(lambda x: x.split(\",\"))\n",
    "df1['City'] = df2.apply(lambda x: \" \".join(x[-2].split()[:]))\n",
    "df1['Commute']  = df1.Commute.str.extract('(\\d+)').astype(float)\n",
    "df1['Crime']  = df1.Crime.str.extract('^(.*?)(?=[ ])')\n",
    "\n",
    "df1.dtypes"
   ]
  },
  {
   "cell_type": "markdown",
   "metadata": {},
   "source": [
    "### Detecting Outliers "
   ]
  },
  {
   "cell_type": "code",
   "execution_count": 246,
   "metadata": {},
   "outputs": [
    {
     "data": {
      "text/plain": [
       "<matplotlib.axes._subplots.AxesSubplot at 0x7fc213819490>"
      ]
     },
     "execution_count": 246,
     "metadata": {},
     "output_type": "execute_result"
    },
    {
     "data": {
      "image/png": "[encoded data removed]",
      "text/plain": [
       "<Figure size 432x288 with 1 Axes>"
      ]
     },
     "metadata": {
      "needs_background": "light"
     },
     "output_type": "display_data"
    }
   ],
   "source": [
    "sns.boxplot(x=df1['Price'])"
   ]
  },
  {
   "cell_type": "code",
   "execution_count": 247,
   "metadata": {},
   "outputs": [
    {
     "data": {
      "text/plain": [
       "<matplotlib.axes._subplots.AxesSubplot at 0x7fc1f814fd10>"
      ]
     },
     "execution_count": 247,
     "metadata": {},
     "output_type": "execute_result"
    },
    {
     "data": {
      "image/png": "[encoded data removed]",
      "text/plain": [
       "<Figure size 432x288 with 1 Axes>"
      ]
     },
     "metadata": {
      "needs_background": "light"
     },
     "output_type": "display_data"
    }
   ],
   "source": [
    "sns.boxplot(x=df1['Bed'])"
   ]
  },
  {
   "cell_type": "code",
   "execution_count": 248,
   "metadata": {},
   "outputs": [
    {
     "data": {
      "text/plain": [
       "<matplotlib.axes._subplots.AxesSubplot at 0x7fc1f77c16d0>"
      ]
     },
     "execution_count": 248,
     "metadata": {},
     "output_type": "execute_result"
    },
    {
     "data": {
      "image/png": "[encoded data removed]",
      "text/plain": [
       "<Figure size 432x288 with 1 Axes>"
      ]
     },
     "metadata": {
      "needs_background": "light"
     },
     "output_type": "display_data"
    }
   ],
   "source": [
    "sns.boxplot(x=df1['Bath'])"
   ]
  },
  {
   "cell_type": "code",
   "execution_count": 249,
   "metadata": {},
   "outputs": [
    {
     "data": {
      "text/plain": [
       "<matplotlib.axes._subplots.AxesSubplot at 0x7fc1f7856390>"
      ]
     },
     "execution_count": 249,
     "metadata": {},
     "output_type": "execute_result"
    },
    {
     "data": {
      "image/png": "[encoded data removed]",
      "text/plain": [
       "<Figure size 432x288 with 1 Axes>"
      ]
     },
     "metadata": {
      "needs_background": "light"
     },
     "output_type": "display_data"
    }
   ],
   "source": [
    "sns.boxplot(x=df1['Size'])"
   ]
  },
  {
   "cell_type": "code",
   "execution_count": 250,
   "metadata": {},
   "outputs": [
    {
     "data": {
      "text/plain": [
       "<matplotlib.axes._subplots.AxesSubplot at 0x7fc1f787f690>"
      ]
     },
     "execution_count": 250,
     "metadata": {},
     "output_type": "execute_result"
    },
    {
     "data": {
      "image/png": "[encoded data removed]",
      "text/plain": [
       "<Figure size 432x288 with 1 Axes>"
      ]
     },
     "metadata": {
      "needs_background": "light"
     },
     "output_type": "display_data"
    }
   ],
   "source": [
    "sns.boxplot(x=df1['Commute'])"
   ]
  },
  {
   "cell_type": "markdown",
   "metadata": {},
   "source": [
    "### Get rid of some outliers after checking boxplots"
   ]
  },
  {
   "cell_type": "code",
   "execution_count": 251,
   "metadata": {},
   "outputs": [
    {
     "data": {
      "text/html": [
       "<div>\n",
       "<style scoped>\n",
       "    .dataframe tbody tr th:only-of-type {\n",
       "        vertical-align: middle;\n",
       "    }\n",
       "\n",
       "    .dataframe tbody tr th {\n",
       "        vertical-align: top;\n",
       "    }\n",
       "\n",
       "    .dataframe thead th {\n",
       "        text-align: right;\n",
       "    }\n",
       "</style>\n",
       "<table border=\"1\" class=\"dataframe\">\n",
       "  <thead>\n",
       "    <tr style=\"text-align: right;\">\n",
       "      <th></th>\n",
       "      <th>Price</th>\n",
       "      <th>Bed</th>\n",
       "      <th>Bath</th>\n",
       "      <th>Size</th>\n",
       "      <th>StreetAddress</th>\n",
       "      <th>City/State/Zip</th>\n",
       "      <th>Commute</th>\n",
       "      <th>Crime</th>\n",
       "      <th>URL</th>\n",
       "      <th>City</th>\n",
       "    </tr>\n",
       "  </thead>\n",
       "  <tbody>\n",
       "    <tr>\n",
       "      <th>0</th>\n",
       "      <td>2000000.0</td>\n",
       "      <td>3.0</td>\n",
       "      <td>2.0</td>\n",
       "      <td>1371.0</td>\n",
       "      <td>6571 Capri Way</td>\n",
       "      <td>San Jose, CA 95129</td>\n",
       "      <td>96.0</td>\n",
       "      <td>Lowest</td>\n",
       "      <td>https://www.trulia.com/p/ca/san-jose/6571-capr...</td>\n",
       "      <td>San Jose</td>\n",
       "    </tr>\n",
       "    <tr>\n",
       "      <th>1</th>\n",
       "      <td>1350000.0</td>\n",
       "      <td>3.0</td>\n",
       "      <td>1.0</td>\n",
       "      <td>1458.0</td>\n",
       "      <td>2023 Bray Ave</td>\n",
       "      <td>Santa Clara, CA 95050</td>\n",
       "      <td>92.0</td>\n",
       "      <td>Moderate</td>\n",
       "      <td>https://www.trulia.com/p/ca/santa-clara/2023-b...</td>\n",
       "      <td>Santa Clara</td>\n",
       "    </tr>\n",
       "    <tr>\n",
       "      <th>2</th>\n",
       "      <td>1375000.0</td>\n",
       "      <td>3.0</td>\n",
       "      <td>2.0</td>\n",
       "      <td>1250.0</td>\n",
       "      <td>1264 Maryann Dr</td>\n",
       "      <td>Santa Clara, CA 95050</td>\n",
       "      <td>92.0</td>\n",
       "      <td>Lowest</td>\n",
       "      <td>https://www.trulia.com/p/ca/santa-clara/1264-m...</td>\n",
       "      <td>Santa Clara</td>\n",
       "    </tr>\n",
       "    <tr>\n",
       "      <th>3</th>\n",
       "      <td>2100000.0</td>\n",
       "      <td>4.0</td>\n",
       "      <td>2.0</td>\n",
       "      <td>2113.0</td>\n",
       "      <td>1062 Castleton Way</td>\n",
       "      <td>Sunnyvale, CA 94087</td>\n",
       "      <td>94.0</td>\n",
       "      <td>Lowest</td>\n",
       "      <td>https://www.trulia.com/p/ca/sunnyvale/1062-cas...</td>\n",
       "      <td>Sunnyvale</td>\n",
       "    </tr>\n",
       "    <tr>\n",
       "      <th>4</th>\n",
       "      <td>1888000.0</td>\n",
       "      <td>3.0</td>\n",
       "      <td>2.0</td>\n",
       "      <td>1674.0</td>\n",
       "      <td>683 Toyon Ave</td>\n",
       "      <td>Sunnyvale, CA 94086</td>\n",
       "      <td>92.0</td>\n",
       "      <td>Low</td>\n",
       "      <td>https://www.trulia.com/p/ca/sunnyvale/683-toyo...</td>\n",
       "      <td>Sunnyvale</td>\n",
       "    </tr>\n",
       "    <tr>\n",
       "      <th>...</th>\n",
       "      <td>...</td>\n",
       "      <td>...</td>\n",
       "      <td>...</td>\n",
       "      <td>...</td>\n",
       "      <td>...</td>\n",
       "      <td>...</td>\n",
       "      <td>...</td>\n",
       "      <td>...</td>\n",
       "      <td>...</td>\n",
       "      <td>...</td>\n",
       "    </tr>\n",
       "    <tr>\n",
       "      <th>234</th>\n",
       "      <td>895000.0</td>\n",
       "      <td>2.0</td>\n",
       "      <td>1.0</td>\n",
       "      <td>3947.0</td>\n",
       "      <td>983 Regal Rd</td>\n",
       "      <td>Berkeley, CA 94708</td>\n",
       "      <td>72.0</td>\n",
       "      <td>Lowest</td>\n",
       "      <td>https://www.trulia.com/p/ca/berkeley/983-regal...</td>\n",
       "      <td>Berkeley</td>\n",
       "    </tr>\n",
       "    <tr>\n",
       "      <th>235</th>\n",
       "      <td>820000.0</td>\n",
       "      <td>4.0</td>\n",
       "      <td>2.0</td>\n",
       "      <td>3054.0</td>\n",
       "      <td>1341 Parker St</td>\n",
       "      <td>Berkeley, CA 94702</td>\n",
       "      <td>63.0</td>\n",
       "      <td>Lowest</td>\n",
       "      <td>https://www.trulia.com/p/ca/berkeley/1341-park...</td>\n",
       "      <td>Berkeley</td>\n",
       "    </tr>\n",
       "    <tr>\n",
       "      <th>237</th>\n",
       "      <td>3600000.0</td>\n",
       "      <td>5.0</td>\n",
       "      <td>5.0</td>\n",
       "      <td>1720.0</td>\n",
       "      <td>1160 Cragmont Ave</td>\n",
       "      <td>Berkeley, CA 94708</td>\n",
       "      <td>72.0</td>\n",
       "      <td>Lowest</td>\n",
       "      <td>https://www.trulia.com/p/ca/berkeley/1160-crag...</td>\n",
       "      <td>Berkeley</td>\n",
       "    </tr>\n",
       "    <tr>\n",
       "      <th>238</th>\n",
       "      <td>2175000.0</td>\n",
       "      <td>3.0</td>\n",
       "      <td>5.0</td>\n",
       "      <td>2139.0</td>\n",
       "      <td>524 Cragmont Ave</td>\n",
       "      <td>Berkeley, CA 94708</td>\n",
       "      <td>72.0</td>\n",
       "      <td>Lowest</td>\n",
       "      <td>https://www.trulia.com/p/ca/berkeley/524-cragm...</td>\n",
       "      <td>Berkeley</td>\n",
       "    </tr>\n",
       "    <tr>\n",
       "      <th>239</th>\n",
       "      <td>1249000.0</td>\n",
       "      <td>3.0</td>\n",
       "      <td>3.0</td>\n",
       "      <td>1870.0</td>\n",
       "      <td>2228 9th St</td>\n",
       "      <td>Berkeley, CA 94710</td>\n",
       "      <td>63.0</td>\n",
       "      <td>Lowest</td>\n",
       "      <td>https://www.trulia.com/p/ca/berkeley/2228-9th-...</td>\n",
       "      <td>Berkeley</td>\n",
       "    </tr>\n",
       "  </tbody>\n",
       "</table>\n",
       "<p>208 rows × 10 columns</p>\n",
       "</div>"
      ],
      "text/plain": [
       "         Price  Bed  Bath    Size       StreetAddress         City/State/Zip  \\\n",
       "0    2000000.0  3.0   2.0  1371.0      6571 Capri Way     San Jose, CA 95129   \n",
       "1    1350000.0  3.0   1.0  1458.0       2023 Bray Ave  Santa Clara, CA 95050   \n",
       "2    1375000.0  3.0   2.0  1250.0     1264 Maryann Dr  Santa Clara, CA 95050   \n",
       "3    2100000.0  4.0   2.0  2113.0  1062 Castleton Way    Sunnyvale, CA 94087   \n",
       "4    1888000.0  3.0   2.0  1674.0       683 Toyon Ave    Sunnyvale, CA 94086   \n",
       "..         ...  ...   ...     ...                 ...                    ...   \n",
       "234   895000.0  2.0   1.0  3947.0        983 Regal Rd     Berkeley, CA 94708   \n",
       "235   820000.0  4.0   2.0  3054.0      1341 Parker St     Berkeley, CA 94702   \n",
       "237  3600000.0  5.0   5.0  1720.0   1160 Cragmont Ave     Berkeley, CA 94708   \n",
       "238  2175000.0  3.0   5.0  2139.0    524 Cragmont Ave     Berkeley, CA 94708   \n",
       "239  1249000.0  3.0   3.0  1870.0         2228 9th St     Berkeley, CA 94710   \n",
       "\n",
       "     Commute     Crime                                                URL  \\\n",
       "0       96.0    Lowest  https://www.trulia.com/p/ca/san-jose/6571-capr...   \n",
       "1       92.0  Moderate  https://www.trulia.com/p/ca/santa-clara/2023-b...   \n",
       "2       92.0    Lowest  https://www.trulia.com/p/ca/santa-clara/1264-m...   \n",
       "3       94.0    Lowest  https://www.trulia.com/p/ca/sunnyvale/1062-cas...   \n",
       "4       92.0       Low  https://www.trulia.com/p/ca/sunnyvale/683-toyo...   \n",
       "..       ...       ...                                                ...   \n",
       "234     72.0    Lowest  https://www.trulia.com/p/ca/berkeley/983-regal...   \n",
       "235     63.0    Lowest  https://www.trulia.com/p/ca/berkeley/1341-park...   \n",
       "237     72.0    Lowest  https://www.trulia.com/p/ca/berkeley/1160-crag...   \n",
       "238     72.0    Lowest  https://www.trulia.com/p/ca/berkeley/524-cragm...   \n",
       "239     63.0    Lowest  https://www.trulia.com/p/ca/berkeley/2228-9th-...   \n",
       "\n",
       "            City  \n",
       "0       San Jose  \n",
       "1    Santa Clara  \n",
       "2    Santa Clara  \n",
       "3      Sunnyvale  \n",
       "4      Sunnyvale  \n",
       "..           ...  \n",
       "234     Berkeley  \n",
       "235     Berkeley  \n",
       "237     Berkeley  \n",
       "238     Berkeley  \n",
       "239     Berkeley  \n",
       "\n",
       "[208 rows x 10 columns]"
      ]
     },
     "execution_count": 251,
     "metadata": {},
     "output_type": "execute_result"
    }
   ],
   "source": [
    "df_price = df1[df1['Price'] < 5000000]\n",
    "df_bed = df_price[df_price['Bed'] < 6]\n",
    "df_bath = df_bed[df_bed['Bath'] < 6]\n",
    "df_size = df_bath[df_bath['Size'] < 10000]\n",
    "df_commute = df_size[df_size['Commute'] > 40]\n",
    "df1 = df_commute\n",
    "df1"
   ]
  },
  {
   "cell_type": "markdown",
   "metadata": {},
   "source": [
    "### Remove records that capture few data from border of the cities "
   ]
  },
  {
   "cell_type": "code",
   "execution_count": 252,
   "metadata": {},
   "outputs": [
    {
     "data": {
      "text/html": [
       "<div>\n",
       "<style scoped>\n",
       "    .dataframe tbody tr th:only-of-type {\n",
       "        vertical-align: middle;\n",
       "    }\n",
       "\n",
       "    .dataframe tbody tr th {\n",
       "        vertical-align: top;\n",
       "    }\n",
       "\n",
       "    .dataframe thead th {\n",
       "        text-align: right;\n",
       "    }\n",
       "</style>\n",
       "<table border=\"1\" class=\"dataframe\">\n",
       "  <thead>\n",
       "    <tr style=\"text-align: right;\">\n",
       "      <th></th>\n",
       "      <th>Price</th>\n",
       "      <th>Bed</th>\n",
       "      <th>Bath</th>\n",
       "      <th>Size</th>\n",
       "      <th>StreetAddress</th>\n",
       "      <th>City/State/Zip</th>\n",
       "      <th>Commute</th>\n",
       "      <th>Crime</th>\n",
       "      <th>URL</th>\n",
       "      <th>City</th>\n",
       "    </tr>\n",
       "  </thead>\n",
       "  <tbody>\n",
       "    <tr>\n",
       "      <th>0</th>\n",
       "      <td>2000000.0</td>\n",
       "      <td>3.0</td>\n",
       "      <td>2.0</td>\n",
       "      <td>1371.0</td>\n",
       "      <td>6571 Capri Way</td>\n",
       "      <td>San Jose, CA 95129</td>\n",
       "      <td>96.0</td>\n",
       "      <td>Lowest</td>\n",
       "      <td>https://www.trulia.com/p/ca/san-jose/6571-capr...</td>\n",
       "      <td>San Jose</td>\n",
       "    </tr>\n",
       "    <tr>\n",
       "      <th>1</th>\n",
       "      <td>1350000.0</td>\n",
       "      <td>3.0</td>\n",
       "      <td>1.0</td>\n",
       "      <td>1458.0</td>\n",
       "      <td>2023 Bray Ave</td>\n",
       "      <td>Santa Clara, CA 95050</td>\n",
       "      <td>92.0</td>\n",
       "      <td>Moderate</td>\n",
       "      <td>https://www.trulia.com/p/ca/santa-clara/2023-b...</td>\n",
       "      <td>Santa Clara</td>\n",
       "    </tr>\n",
       "    <tr>\n",
       "      <th>2</th>\n",
       "      <td>1375000.0</td>\n",
       "      <td>3.0</td>\n",
       "      <td>2.0</td>\n",
       "      <td>1250.0</td>\n",
       "      <td>1264 Maryann Dr</td>\n",
       "      <td>Santa Clara, CA 95050</td>\n",
       "      <td>92.0</td>\n",
       "      <td>Lowest</td>\n",
       "      <td>https://www.trulia.com/p/ca/santa-clara/1264-m...</td>\n",
       "      <td>Santa Clara</td>\n",
       "    </tr>\n",
       "    <tr>\n",
       "      <th>3</th>\n",
       "      <td>2100000.0</td>\n",
       "      <td>4.0</td>\n",
       "      <td>2.0</td>\n",
       "      <td>2113.0</td>\n",
       "      <td>1062 Castleton Way</td>\n",
       "      <td>Sunnyvale, CA 94087</td>\n",
       "      <td>94.0</td>\n",
       "      <td>Lowest</td>\n",
       "      <td>https://www.trulia.com/p/ca/sunnyvale/1062-cas...</td>\n",
       "      <td>Sunnyvale</td>\n",
       "    </tr>\n",
       "    <tr>\n",
       "      <th>4</th>\n",
       "      <td>1888000.0</td>\n",
       "      <td>3.0</td>\n",
       "      <td>2.0</td>\n",
       "      <td>1674.0</td>\n",
       "      <td>683 Toyon Ave</td>\n",
       "      <td>Sunnyvale, CA 94086</td>\n",
       "      <td>92.0</td>\n",
       "      <td>Low</td>\n",
       "      <td>https://www.trulia.com/p/ca/sunnyvale/683-toyo...</td>\n",
       "      <td>Sunnyvale</td>\n",
       "    </tr>\n",
       "    <tr>\n",
       "      <th>...</th>\n",
       "      <td>...</td>\n",
       "      <td>...</td>\n",
       "      <td>...</td>\n",
       "      <td>...</td>\n",
       "      <td>...</td>\n",
       "      <td>...</td>\n",
       "      <td>...</td>\n",
       "      <td>...</td>\n",
       "      <td>...</td>\n",
       "      <td>...</td>\n",
       "    </tr>\n",
       "    <tr>\n",
       "      <th>234</th>\n",
       "      <td>895000.0</td>\n",
       "      <td>2.0</td>\n",
       "      <td>1.0</td>\n",
       "      <td>3947.0</td>\n",
       "      <td>983 Regal Rd</td>\n",
       "      <td>Berkeley, CA 94708</td>\n",
       "      <td>72.0</td>\n",
       "      <td>Lowest</td>\n",
       "      <td>https://www.trulia.com/p/ca/berkeley/983-regal...</td>\n",
       "      <td>Berkeley</td>\n",
       "    </tr>\n",
       "    <tr>\n",
       "      <th>235</th>\n",
       "      <td>820000.0</td>\n",
       "      <td>4.0</td>\n",
       "      <td>2.0</td>\n",
       "      <td>3054.0</td>\n",
       "      <td>1341 Parker St</td>\n",
       "      <td>Berkeley, CA 94702</td>\n",
       "      <td>63.0</td>\n",
       "      <td>Lowest</td>\n",
       "      <td>https://www.trulia.com/p/ca/berkeley/1341-park...</td>\n",
       "      <td>Berkeley</td>\n",
       "    </tr>\n",
       "    <tr>\n",
       "      <th>237</th>\n",
       "      <td>3600000.0</td>\n",
       "      <td>5.0</td>\n",
       "      <td>5.0</td>\n",
       "      <td>1720.0</td>\n",
       "      <td>1160 Cragmont Ave</td>\n",
       "      <td>Berkeley, CA 94708</td>\n",
       "      <td>72.0</td>\n",
       "      <td>Lowest</td>\n",
       "      <td>https://www.trulia.com/p/ca/berkeley/1160-crag...</td>\n",
       "      <td>Berkeley</td>\n",
       "    </tr>\n",
       "    <tr>\n",
       "      <th>238</th>\n",
       "      <td>2175000.0</td>\n",
       "      <td>3.0</td>\n",
       "      <td>5.0</td>\n",
       "      <td>2139.0</td>\n",
       "      <td>524 Cragmont Ave</td>\n",
       "      <td>Berkeley, CA 94708</td>\n",
       "      <td>72.0</td>\n",
       "      <td>Lowest</td>\n",
       "      <td>https://www.trulia.com/p/ca/berkeley/524-cragm...</td>\n",
       "      <td>Berkeley</td>\n",
       "    </tr>\n",
       "    <tr>\n",
       "      <th>239</th>\n",
       "      <td>1249000.0</td>\n",
       "      <td>3.0</td>\n",
       "      <td>3.0</td>\n",
       "      <td>1870.0</td>\n",
       "      <td>2228 9th St</td>\n",
       "      <td>Berkeley, CA 94710</td>\n",
       "      <td>63.0</td>\n",
       "      <td>Lowest</td>\n",
       "      <td>https://www.trulia.com/p/ca/berkeley/2228-9th-...</td>\n",
       "      <td>Berkeley</td>\n",
       "    </tr>\n",
       "  </tbody>\n",
       "</table>\n",
       "<p>198 rows × 10 columns</p>\n",
       "</div>"
      ],
      "text/plain": [
       "         Price  Bed  Bath    Size       StreetAddress         City/State/Zip  \\\n",
       "0    2000000.0  3.0   2.0  1371.0      6571 Capri Way     San Jose, CA 95129   \n",
       "1    1350000.0  3.0   1.0  1458.0       2023 Bray Ave  Santa Clara, CA 95050   \n",
       "2    1375000.0  3.0   2.0  1250.0     1264 Maryann Dr  Santa Clara, CA 95050   \n",
       "3    2100000.0  4.0   2.0  2113.0  1062 Castleton Way    Sunnyvale, CA 94087   \n",
       "4    1888000.0  3.0   2.0  1674.0       683 Toyon Ave    Sunnyvale, CA 94086   \n",
       "..         ...  ...   ...     ...                 ...                    ...   \n",
       "234   895000.0  2.0   1.0  3947.0        983 Regal Rd     Berkeley, CA 94708   \n",
       "235   820000.0  4.0   2.0  3054.0      1341 Parker St     Berkeley, CA 94702   \n",
       "237  3600000.0  5.0   5.0  1720.0   1160 Cragmont Ave     Berkeley, CA 94708   \n",
       "238  2175000.0  3.0   5.0  2139.0    524 Cragmont Ave     Berkeley, CA 94708   \n",
       "239  1249000.0  3.0   3.0  1870.0         2228 9th St     Berkeley, CA 94710   \n",
       "\n",
       "     Commute     Crime                                                URL  \\\n",
       "0       96.0    Lowest  https://www.trulia.com/p/ca/san-jose/6571-capr...   \n",
       "1       92.0  Moderate  https://www.trulia.com/p/ca/santa-clara/2023-b...   \n",
       "2       92.0    Lowest  https://www.trulia.com/p/ca/santa-clara/1264-m...   \n",
       "3       94.0    Lowest  https://www.trulia.com/p/ca/sunnyvale/1062-cas...   \n",
       "4       92.0       Low  https://www.trulia.com/p/ca/sunnyvale/683-toyo...   \n",
       "..       ...       ...                                                ...   \n",
       "234     72.0    Lowest  https://www.trulia.com/p/ca/berkeley/983-regal...   \n",
       "235     63.0    Lowest  https://www.trulia.com/p/ca/berkeley/1341-park...   \n",
       "237     72.0    Lowest  https://www.trulia.com/p/ca/berkeley/1160-crag...   \n",
       "238     72.0    Lowest  https://www.trulia.com/p/ca/berkeley/524-cragm...   \n",
       "239     63.0    Lowest  https://www.trulia.com/p/ca/berkeley/2228-9th-...   \n",
       "\n",
       "            City  \n",
       "0       San Jose  \n",
       "1    Santa Clara  \n",
       "2    Santa Clara  \n",
       "3      Sunnyvale  \n",
       "4      Sunnyvale  \n",
       "..           ...  \n",
       "234     Berkeley  \n",
       "235     Berkeley  \n",
       "237     Berkeley  \n",
       "238     Berkeley  \n",
       "239     Berkeley  \n",
       "\n",
       "[198 rows x 10 columns]"
      ]
     },
     "execution_count": 252,
     "metadata": {},
     "output_type": "execute_result"
    }
   ],
   "source": [
    "df2 = df1\n",
    "df2 = df2.groupby(\"City\").filter(lambda x : len(x)>5)\n",
    "df2.to_csv(r'/Users/krishna/Analytics/BAN612_DataAnalytics/Project/Filtered_Data.csv', index = False)\n",
    "df2"
   ]
  },
  {
   "cell_type": "markdown",
   "metadata": {},
   "source": [
    "### Reset the index of final dataframe for further analysis"
   ]
  },
  {
   "cell_type": "code",
   "execution_count": 253,
   "metadata": {},
   "outputs": [
    {
     "data": {
      "text/html": [
       "<div>\n",
       "<style scoped>\n",
       "    .dataframe tbody tr th:only-of-type {\n",
       "        vertical-align: middle;\n",
       "    }\n",
       "\n",
       "    .dataframe tbody tr th {\n",
       "        vertical-align: top;\n",
       "    }\n",
       "\n",
       "    .dataframe thead th {\n",
       "        text-align: right;\n",
       "    }\n",
       "</style>\n",
       "<table border=\"1\" class=\"dataframe\">\n",
       "  <thead>\n",
       "    <tr style=\"text-align: right;\">\n",
       "      <th></th>\n",
       "      <th>Price</th>\n",
       "      <th>Bed</th>\n",
       "      <th>Bath</th>\n",
       "      <th>Size</th>\n",
       "      <th>StreetAddress</th>\n",
       "      <th>City/State/Zip</th>\n",
       "      <th>Commute</th>\n",
       "      <th>Crime</th>\n",
       "      <th>URL</th>\n",
       "      <th>City</th>\n",
       "    </tr>\n",
       "  </thead>\n",
       "  <tbody>\n",
       "    <tr>\n",
       "      <th>0</th>\n",
       "      <td>2000000.0</td>\n",
       "      <td>3.0</td>\n",
       "      <td>2.0</td>\n",
       "      <td>1371.0</td>\n",
       "      <td>6571 Capri Way</td>\n",
       "      <td>San Jose, CA 95129</td>\n",
       "      <td>96.0</td>\n",
       "      <td>Lowest</td>\n",
       "      <td>https://www.trulia.com/p/ca/san-jose/6571-capr...</td>\n",
       "      <td>San Jose</td>\n",
       "    </tr>\n",
       "    <tr>\n",
       "      <th>1</th>\n",
       "      <td>1350000.0</td>\n",
       "      <td>3.0</td>\n",
       "      <td>1.0</td>\n",
       "      <td>1458.0</td>\n",
       "      <td>2023 Bray Ave</td>\n",
       "      <td>Santa Clara, CA 95050</td>\n",
       "      <td>92.0</td>\n",
       "      <td>Moderate</td>\n",
       "      <td>https://www.trulia.com/p/ca/santa-clara/2023-b...</td>\n",
       "      <td>Santa Clara</td>\n",
       "    </tr>\n",
       "    <tr>\n",
       "      <th>2</th>\n",
       "      <td>1375000.0</td>\n",
       "      <td>3.0</td>\n",
       "      <td>2.0</td>\n",
       "      <td>1250.0</td>\n",
       "      <td>1264 Maryann Dr</td>\n",
       "      <td>Santa Clara, CA 95050</td>\n",
       "      <td>92.0</td>\n",
       "      <td>Lowest</td>\n",
       "      <td>https://www.trulia.com/p/ca/santa-clara/1264-m...</td>\n",
       "      <td>Santa Clara</td>\n",
       "    </tr>\n",
       "    <tr>\n",
       "      <th>3</th>\n",
       "      <td>2100000.0</td>\n",
       "      <td>4.0</td>\n",
       "      <td>2.0</td>\n",
       "      <td>2113.0</td>\n",
       "      <td>1062 Castleton Way</td>\n",
       "      <td>Sunnyvale, CA 94087</td>\n",
       "      <td>94.0</td>\n",
       "      <td>Lowest</td>\n",
       "      <td>https://www.trulia.com/p/ca/sunnyvale/1062-cas...</td>\n",
       "      <td>Sunnyvale</td>\n",
       "    </tr>\n",
       "    <tr>\n",
       "      <th>4</th>\n",
       "      <td>1888000.0</td>\n",
       "      <td>3.0</td>\n",
       "      <td>2.0</td>\n",
       "      <td>1674.0</td>\n",
       "      <td>683 Toyon Ave</td>\n",
       "      <td>Sunnyvale, CA 94086</td>\n",
       "      <td>92.0</td>\n",
       "      <td>Low</td>\n",
       "      <td>https://www.trulia.com/p/ca/sunnyvale/683-toyo...</td>\n",
       "      <td>Sunnyvale</td>\n",
       "    </tr>\n",
       "    <tr>\n",
       "      <th>...</th>\n",
       "      <td>...</td>\n",
       "      <td>...</td>\n",
       "      <td>...</td>\n",
       "      <td>...</td>\n",
       "      <td>...</td>\n",
       "      <td>...</td>\n",
       "      <td>...</td>\n",
       "      <td>...</td>\n",
       "      <td>...</td>\n",
       "      <td>...</td>\n",
       "    </tr>\n",
       "    <tr>\n",
       "      <th>193</th>\n",
       "      <td>895000.0</td>\n",
       "      <td>2.0</td>\n",
       "      <td>1.0</td>\n",
       "      <td>3947.0</td>\n",
       "      <td>983 Regal Rd</td>\n",
       "      <td>Berkeley, CA 94708</td>\n",
       "      <td>72.0</td>\n",
       "      <td>Lowest</td>\n",
       "      <td>https://www.trulia.com/p/ca/berkeley/983-regal...</td>\n",
       "      <td>Berkeley</td>\n",
       "    </tr>\n",
       "    <tr>\n",
       "      <th>194</th>\n",
       "      <td>820000.0</td>\n",
       "      <td>4.0</td>\n",
       "      <td>2.0</td>\n",
       "      <td>3054.0</td>\n",
       "      <td>1341 Parker St</td>\n",
       "      <td>Berkeley, CA 94702</td>\n",
       "      <td>63.0</td>\n",
       "      <td>Lowest</td>\n",
       "      <td>https://www.trulia.com/p/ca/berkeley/1341-park...</td>\n",
       "      <td>Berkeley</td>\n",
       "    </tr>\n",
       "    <tr>\n",
       "      <th>195</th>\n",
       "      <td>3600000.0</td>\n",
       "      <td>5.0</td>\n",
       "      <td>5.0</td>\n",
       "      <td>1720.0</td>\n",
       "      <td>1160 Cragmont Ave</td>\n",
       "      <td>Berkeley, CA 94708</td>\n",
       "      <td>72.0</td>\n",
       "      <td>Lowest</td>\n",
       "      <td>https://www.trulia.com/p/ca/berkeley/1160-crag...</td>\n",
       "      <td>Berkeley</td>\n",
       "    </tr>\n",
       "    <tr>\n",
       "      <th>196</th>\n",
       "      <td>2175000.0</td>\n",
       "      <td>3.0</td>\n",
       "      <td>5.0</td>\n",
       "      <td>2139.0</td>\n",
       "      <td>524 Cragmont Ave</td>\n",
       "      <td>Berkeley, CA 94708</td>\n",
       "      <td>72.0</td>\n",
       "      <td>Lowest</td>\n",
       "      <td>https://www.trulia.com/p/ca/berkeley/524-cragm...</td>\n",
       "      <td>Berkeley</td>\n",
       "    </tr>\n",
       "    <tr>\n",
       "      <th>197</th>\n",
       "      <td>1249000.0</td>\n",
       "      <td>3.0</td>\n",
       "      <td>3.0</td>\n",
       "      <td>1870.0</td>\n",
       "      <td>2228 9th St</td>\n",
       "      <td>Berkeley, CA 94710</td>\n",
       "      <td>63.0</td>\n",
       "      <td>Lowest</td>\n",
       "      <td>https://www.trulia.com/p/ca/berkeley/2228-9th-...</td>\n",
       "      <td>Berkeley</td>\n",
       "    </tr>\n",
       "  </tbody>\n",
       "</table>\n",
       "<p>198 rows × 10 columns</p>\n",
       "</div>"
      ],
      "text/plain": [
       "         Price  Bed  Bath    Size       StreetAddress         City/State/Zip  \\\n",
       "0    2000000.0  3.0   2.0  1371.0      6571 Capri Way     San Jose, CA 95129   \n",
       "1    1350000.0  3.0   1.0  1458.0       2023 Bray Ave  Santa Clara, CA 95050   \n",
       "2    1375000.0  3.0   2.0  1250.0     1264 Maryann Dr  Santa Clara, CA 95050   \n",
       "3    2100000.0  4.0   2.0  2113.0  1062 Castleton Way    Sunnyvale, CA 94087   \n",
       "4    1888000.0  3.0   2.0  1674.0       683 Toyon Ave    Sunnyvale, CA 94086   \n",
       "..         ...  ...   ...     ...                 ...                    ...   \n",
       "193   895000.0  2.0   1.0  3947.0        983 Regal Rd     Berkeley, CA 94708   \n",
       "194   820000.0  4.0   2.0  3054.0      1341 Parker St     Berkeley, CA 94702   \n",
       "195  3600000.0  5.0   5.0  1720.0   1160 Cragmont Ave     Berkeley, CA 94708   \n",
       "196  2175000.0  3.0   5.0  2139.0    524 Cragmont Ave     Berkeley, CA 94708   \n",
       "197  1249000.0  3.0   3.0  1870.0         2228 9th St     Berkeley, CA 94710   \n",
       "\n",
       "     Commute     Crime                                                URL  \\\n",
       "0       96.0    Lowest  https://www.trulia.com/p/ca/san-jose/6571-capr...   \n",
       "1       92.0  Moderate  https://www.trulia.com/p/ca/santa-clara/2023-b...   \n",
       "2       92.0    Lowest  https://www.trulia.com/p/ca/santa-clara/1264-m...   \n",
       "3       94.0    Lowest  https://www.trulia.com/p/ca/sunnyvale/1062-cas...   \n",
       "4       92.0       Low  https://www.trulia.com/p/ca/sunnyvale/683-toyo...   \n",
       "..       ...       ...                                                ...   \n",
       "193     72.0    Lowest  https://www.trulia.com/p/ca/berkeley/983-regal...   \n",
       "194     63.0    Lowest  https://www.trulia.com/p/ca/berkeley/1341-park...   \n",
       "195     72.0    Lowest  https://www.trulia.com/p/ca/berkeley/1160-crag...   \n",
       "196     72.0    Lowest  https://www.trulia.com/p/ca/berkeley/524-cragm...   \n",
       "197     63.0    Lowest  https://www.trulia.com/p/ca/berkeley/2228-9th-...   \n",
       "\n",
       "            City  \n",
       "0       San Jose  \n",
       "1    Santa Clara  \n",
       "2    Santa Clara  \n",
       "3      Sunnyvale  \n",
       "4      Sunnyvale  \n",
       "..           ...  \n",
       "193     Berkeley  \n",
       "194     Berkeley  \n",
       "195     Berkeley  \n",
       "196     Berkeley  \n",
       "197     Berkeley  \n",
       "\n",
       "[198 rows x 10 columns]"
      ]
     },
     "execution_count": 253,
     "metadata": {},
     "output_type": "execute_result"
    }
   ],
   "source": [
    "df3 = df2\n",
    "df3 = df3.reset_index(drop=True)\n",
    "df3.to_csv(r'/Users/krishna/Analytics/BAN612_DataAnalytics/Project/Filtered_Data1.csv', index = False)\n",
    "df3"
   ]
  },
  {
   "cell_type": "markdown",
   "metadata": {},
   "source": [
    "## Exploratory Data Analysis"
   ]
  },
  {
   "cell_type": "markdown",
   "metadata": {},
   "source": [
    "### Summary Statistics"
   ]
  },
  {
   "cell_type": "code",
   "execution_count": 254,
   "metadata": {},
   "outputs": [
    {
     "data": {
      "text/html": [
       "<div>\n",
       "<style scoped>\n",
       "    .dataframe tbody tr th:only-of-type {\n",
       "        vertical-align: middle;\n",
       "    }\n",
       "\n",
       "    .dataframe tbody tr th {\n",
       "        vertical-align: top;\n",
       "    }\n",
       "\n",
       "    .dataframe thead th {\n",
       "        text-align: right;\n",
       "    }\n",
       "</style>\n",
       "<table border=\"1\" class=\"dataframe\">\n",
       "  <thead>\n",
       "    <tr style=\"text-align: right;\">\n",
       "      <th></th>\n",
       "      <th>Price</th>\n",
       "      <th>Bed</th>\n",
       "      <th>Bath</th>\n",
       "      <th>Size</th>\n",
       "      <th>Commute</th>\n",
       "    </tr>\n",
       "  </thead>\n",
       "  <tbody>\n",
       "    <tr>\n",
       "      <th>count</th>\n",
       "      <td>1.980000e+02</td>\n",
       "      <td>198.000000</td>\n",
       "      <td>198.000000</td>\n",
       "      <td>198.000000</td>\n",
       "      <td>198.000000</td>\n",
       "    </tr>\n",
       "    <tr>\n",
       "      <th>mean</th>\n",
       "      <td>1.598046e+06</td>\n",
       "      <td>3.580808</td>\n",
       "      <td>2.570707</td>\n",
       "      <td>2193.070707</td>\n",
       "      <td>85.095960</td>\n",
       "    </tr>\n",
       "    <tr>\n",
       "      <th>std</th>\n",
       "      <td>8.024832e+05</td>\n",
       "      <td>0.837591</td>\n",
       "      <td>0.998756</td>\n",
       "      <td>1327.553502</td>\n",
       "      <td>12.540124</td>\n",
       "    </tr>\n",
       "    <tr>\n",
       "      <th>min</th>\n",
       "      <td>4.099000e+05</td>\n",
       "      <td>2.000000</td>\n",
       "      <td>1.000000</td>\n",
       "      <td>726.000000</td>\n",
       "      <td>47.000000</td>\n",
       "    </tr>\n",
       "    <tr>\n",
       "      <th>25%</th>\n",
       "      <td>1.057250e+06</td>\n",
       "      <td>3.000000</td>\n",
       "      <td>2.000000</td>\n",
       "      <td>1355.500000</td>\n",
       "      <td>80.000000</td>\n",
       "    </tr>\n",
       "    <tr>\n",
       "      <th>50%</th>\n",
       "      <td>1.399000e+06</td>\n",
       "      <td>4.000000</td>\n",
       "      <td>2.000000</td>\n",
       "      <td>1866.500000</td>\n",
       "      <td>90.000000</td>\n",
       "    </tr>\n",
       "    <tr>\n",
       "      <th>75%</th>\n",
       "      <td>1.898000e+06</td>\n",
       "      <td>4.000000</td>\n",
       "      <td>3.000000</td>\n",
       "      <td>2637.250000</td>\n",
       "      <td>93.000000</td>\n",
       "    </tr>\n",
       "    <tr>\n",
       "      <th>max</th>\n",
       "      <td>4.950000e+06</td>\n",
       "      <td>5.000000</td>\n",
       "      <td>5.000000</td>\n",
       "      <td>9857.000000</td>\n",
       "      <td>96.000000</td>\n",
       "    </tr>\n",
       "  </tbody>\n",
       "</table>\n",
       "</div>"
      ],
      "text/plain": [
       "              Price         Bed        Bath         Size     Commute\n",
       "count  1.980000e+02  198.000000  198.000000   198.000000  198.000000\n",
       "mean   1.598046e+06    3.580808    2.570707  2193.070707   85.095960\n",
       "std    8.024832e+05    0.837591    0.998756  1327.553502   12.540124\n",
       "min    4.099000e+05    2.000000    1.000000   726.000000   47.000000\n",
       "25%    1.057250e+06    3.000000    2.000000  1355.500000   80.000000\n",
       "50%    1.399000e+06    4.000000    2.000000  1866.500000   90.000000\n",
       "75%    1.898000e+06    4.000000    3.000000  2637.250000   93.000000\n",
       "max    4.950000e+06    5.000000    5.000000  9857.000000   96.000000"
      ]
     },
     "execution_count": 254,
     "metadata": {},
     "output_type": "execute_result"
    }
   ],
   "source": [
    "df3.describe()"
   ]
  },
  {
   "cell_type": "markdown",
   "metadata": {},
   "source": [
    "### Scatterplot"
   ]
  },
  {
   "cell_type": "code",
   "execution_count": 255,
   "metadata": {},
   "outputs": [
    {
     "data": {
      "text/plain": [
       "<seaborn.axisgrid.PairGrid at 0x7fc1f7f58c10>"
      ]
     },
     "execution_count": 255,
     "metadata": {},
     "output_type": "execute_result"
    },
    {
     "data": {
      "image/png": "[encoded data removed]",
      "text/plain": [
       "<Figure size 803.375x180 with 4 Axes>"
      ]
     },
     "metadata": {
      "needs_background": "light"
     },
     "output_type": "display_data"
    }
   ],
   "source": [
    "sns.pairplot(df3,x_vars=['Bed','Bath','Size','Commute'],y_vars=['Price'],hue='Crime')"
   ]
  },
  {
   "cell_type": "code",
   "execution_count": 257,
   "metadata": {
    "scrolled": true
   },
   "outputs": [
    {
     "data": {
      "text/plain": [
       "<matplotlib.axes._subplots.AxesSubplot at 0x7fc1f91fb390>"
      ]
     },
     "execution_count": 257,
     "metadata": {},
     "output_type": "execute_result"
    },
    {
     "data": {
      "image/png": "[encoded data removed]",
      "text/plain": [
       "<Figure size 432x288 with 1 Axes>"
      ]
     },
     "metadata": {
      "needs_background": "light"
     },
     "output_type": "display_data"
    }
   ],
   "source": [
    "sns.regplot(\"Bed\", \"Price\", df3)"
   ]
  },
  {
   "cell_type": "code",
   "execution_count": 258,
   "metadata": {},
   "outputs": [
    {
     "data": {
      "text/plain": [
       "<matplotlib.axes._subplots.AxesSubplot at 0x7fc1f9237a50>"
      ]
     },
     "execution_count": 258,
     "metadata": {},
     "output_type": "execute_result"
    },
    {
     "data": {
      "image/png": "[encoded data removed]",
      "text/plain": [
       "<Figure size 432x288 with 1 Axes>"
      ]
     },
     "metadata": {
      "needs_background": "light"
     },
     "output_type": "display_data"
    }
   ],
   "source": [
    "sns.regplot(\"Bath\", \"Price\", df3)"
   ]
  },
  {
   "cell_type": "code",
   "execution_count": 259,
   "metadata": {},
   "outputs": [
    {
     "data": {
      "text/plain": [
       "<matplotlib.axes._subplots.AxesSubplot at 0x7fc1f92dcd10>"
      ]
     },
     "execution_count": 259,
     "metadata": {},
     "output_type": "execute_result"
    },
    {
     "data": {
      "image/png": "[encoded data removed]",
      "text/plain": [
       "<Figure size 432x288 with 1 Axes>"
      ]
     },
     "metadata": {
      "needs_background": "light"
     },
     "output_type": "display_data"
    }
   ],
   "source": [
    "sns.regplot(\"Size\", \"Price\", df3)"
   ]
  },
  {
   "cell_type": "code",
   "execution_count": 260,
   "metadata": {},
   "outputs": [
    {
     "data": {
      "text/plain": [
       "<matplotlib.axes._subplots.AxesSubplot at 0x7fc1f93812d0>"
      ]
     },
     "execution_count": 260,
     "metadata": {},
     "output_type": "execute_result"
    },
    {
     "data": {
      "image/png": "[encoded data removed]",
      "text/plain": [
       "<Figure size 432x288 with 1 Axes>"
      ]
     },
     "metadata": {
      "needs_background": "light"
     },
     "output_type": "display_data"
    }
   ],
   "source": [
    "sns.regplot(\"Commute\", \"Price\", df3)"
   ]
  },
  {
   "cell_type": "markdown",
   "metadata": {},
   "source": [
    "### Check for Multicollinearity"
   ]
  },
  {
   "cell_type": "code",
   "execution_count": 261,
   "metadata": {},
   "outputs": [
    {
     "data": {
      "text/html": [
       "<div>\n",
       "<style scoped>\n",
       "    .dataframe tbody tr th:only-of-type {\n",
       "        vertical-align: middle;\n",
       "    }\n",
       "\n",
       "    .dataframe tbody tr th {\n",
       "        vertical-align: top;\n",
       "    }\n",
       "\n",
       "    .dataframe thead th {\n",
       "        text-align: right;\n",
       "    }\n",
       "</style>\n",
       "<table border=\"1\" class=\"dataframe\">\n",
       "  <thead>\n",
       "    <tr style=\"text-align: right;\">\n",
       "      <th></th>\n",
       "      <th>Price</th>\n",
       "      <th>Bed</th>\n",
       "      <th>Bath</th>\n",
       "      <th>Size</th>\n",
       "      <th>Commute</th>\n",
       "    </tr>\n",
       "  </thead>\n",
       "  <tbody>\n",
       "    <tr>\n",
       "      <th>Price</th>\n",
       "      <td>1.000000</td>\n",
       "      <td>0.493526</td>\n",
       "      <td>0.550831</td>\n",
       "      <td>0.219282</td>\n",
       "      <td>-0.127341</td>\n",
       "    </tr>\n",
       "    <tr>\n",
       "      <th>Bed</th>\n",
       "      <td>0.493526</td>\n",
       "      <td>1.000000</td>\n",
       "      <td>0.633305</td>\n",
       "      <td>0.175495</td>\n",
       "      <td>0.066192</td>\n",
       "    </tr>\n",
       "    <tr>\n",
       "      <th>Bath</th>\n",
       "      <td>0.550831</td>\n",
       "      <td>0.633305</td>\n",
       "      <td>1.000000</td>\n",
       "      <td>0.217831</td>\n",
       "      <td>-0.077348</td>\n",
       "    </tr>\n",
       "    <tr>\n",
       "      <th>Size</th>\n",
       "      <td>0.219282</td>\n",
       "      <td>0.175495</td>\n",
       "      <td>0.217831</td>\n",
       "      <td>1.000000</td>\n",
       "      <td>-0.200462</td>\n",
       "    </tr>\n",
       "    <tr>\n",
       "      <th>Commute</th>\n",
       "      <td>-0.127341</td>\n",
       "      <td>0.066192</td>\n",
       "      <td>-0.077348</td>\n",
       "      <td>-0.200462</td>\n",
       "      <td>1.000000</td>\n",
       "    </tr>\n",
       "  </tbody>\n",
       "</table>\n",
       "</div>"
      ],
      "text/plain": [
       "            Price       Bed      Bath      Size   Commute\n",
       "Price    1.000000  0.493526  0.550831  0.219282 -0.127341\n",
       "Bed      0.493526  1.000000  0.633305  0.175495  0.066192\n",
       "Bath     0.550831  0.633305  1.000000  0.217831 -0.077348\n",
       "Size     0.219282  0.175495  0.217831  1.000000 -0.200462\n",
       "Commute -0.127341  0.066192 -0.077348 -0.200462  1.000000"
      ]
     },
     "execution_count": 261,
     "metadata": {},
     "output_type": "execute_result"
    }
   ],
   "source": [
    "# Correlation Matrix\n",
    "\n",
    "correlations = df3.corr()\n",
    "correlations"
   ]
  },
  {
   "cell_type": "code",
   "execution_count": 262,
   "metadata": {},
   "outputs": [
    {
     "data": {
      "image/png": "[encoded data removed]",
      "text/plain": [
       "<Figure size 432x288 with 2 Axes>"
      ]
     },
     "metadata": {
      "needs_background": "light"
     },
     "output_type": "display_data"
    }
   ],
   "source": [
    "# Correlation Plot\n",
    "\n",
    "ax = sns.heatmap(\n",
    "    correlations, \n",
    "    vmin=-1, vmax=1, center=0,\n",
    "    cmap=sns.diverging_palette(20, 220, n=200),\n",
    "    square=True\n",
    ")\n",
    "ax.set_xticklabels(\n",
    "    ax.get_xticklabels(),\n",
    "    rotation=45,\n",
    "    horizontalalignment='right'\n",
    ");"
   ]
  },
  {
   "cell_type": "markdown",
   "metadata": {},
   "source": [
    "### Heatmap"
   ]
  },
  {
   "cell_type": "code",
   "execution_count": 263,
   "metadata": {},
   "outputs": [
    {
     "data": {
      "text/plain": [
       "<matplotlib.axes._subplots.AxesSubplot at 0x7fc1f9531490>"
      ]
     },
     "execution_count": 263,
     "metadata": {},
     "output_type": "execute_result"
    },
    {
     "data": {
      "image/png": "[encoded data removed]",
      "text/plain": [
       "<Figure size 432x288 with 2 Axes>"
      ]
     },
     "metadata": {
      "needs_background": "light"
     },
     "output_type": "display_data"
    }
   ],
   "source": [
    "sns.heatmap(df3.corr(),annot=True,lw=1)"
   ]
  },
  {
   "cell_type": "markdown",
   "metadata": {},
   "source": [
    "### Trend between two variables"
   ]
  },
  {
   "cell_type": "code",
   "execution_count": 264,
   "metadata": {
    "scrolled": true
   },
   "outputs": [
    {
     "data": {
      "text/plain": [
       "<matplotlib.axes._subplots.AxesSubplot at 0x7fc1f9664dd0>"
      ]
     },
     "execution_count": 264,
     "metadata": {},
     "output_type": "execute_result"
    },
    {
     "data": {
      "image/png": "[encoded data removed]",
      "text/plain": [
       "<Figure size 432x288 with 1 Axes>"
      ]
     },
     "metadata": {
      "needs_background": "light"
     },
     "output_type": "display_data"
    }
   ],
   "source": [
    "sns.boxplot(x=\"Bed\", y=\"Price\",data=df3)"
   ]
  },
  {
   "cell_type": "code",
   "execution_count": 265,
   "metadata": {},
   "outputs": [
    {
     "data": {
      "text/plain": [
       "<matplotlib.axes._subplots.AxesSubplot at 0x7fc1f976b7d0>"
      ]
     },
     "execution_count": 265,
     "metadata": {},
     "output_type": "execute_result"
    },
    {
     "data": {
      "image/png": "[encoded data removed]",
      "text/plain": [
       "<Figure size 432x288 with 1 Axes>"
      ]
     },
     "metadata": {
      "needs_background": "light"
     },
     "output_type": "display_data"
    }
   ],
   "source": [
    "sns.boxplot(x=\"Bath\", y=\"Price\",data=df3)"
   ]
  },
  {
   "cell_type": "code",
   "execution_count": 266,
   "metadata": {},
   "outputs": [
    {
     "data": {
      "text/plain": [
       "<matplotlib.axes._subplots.AxesSubplot at 0x7fc1f98a0350>"
      ]
     },
     "execution_count": 266,
     "metadata": {},
     "output_type": "execute_result"
    },
    {
     "data": {
      "image/png": "[encoded data removed]",
      "text/plain": [
       "<Figure size 432x288 with 1 Axes>"
      ]
     },
     "metadata": {
      "needs_background": "light"
     },
     "output_type": "display_data"
    }
   ],
   "source": [
    "sns.boxplot(x=\"Crime\", y=\"Price\",data=df3)"
   ]
  },
  {
   "cell_type": "markdown",
   "metadata": {},
   "source": [
    "## Which is the most affordable city in Bay Area?"
   ]
  },
  {
   "cell_type": "code",
   "execution_count": 267,
   "metadata": {},
   "outputs": [
    {
     "data": {
      "image/png": "[encoded data removed]",
      "text/plain": [
       "<Figure size 432x288 with 1 Axes>"
      ]
     },
     "metadata": {
      "needs_background": "light"
     },
     "output_type": "display_data"
    }
   ],
   "source": [
    "Price= df3[['Price','Bed']]\n",
    "Price\n",
    "Price.mean()\n",
    "\n",
    "SanJose_SantaClara_Sunnyvale = Price[0:54]\n",
    "SanJose_SantaClara_Sunnyvale\n",
    "Col1= SanJose_SantaClara_Sunnyvale.loc[:,\"Price\"].mean()\n",
    "\n",
    "SanFrancisco = Price[55:77]\n",
    "SanFrancisco\n",
    "Col2=SanFrancisco.loc[:,\"Price\"].mean()\n",
    "\n",
    "PaloAlto = Price[78:91]\n",
    "PaloAlto\n",
    "Col3=PaloAlto.loc[:,\"Price\"].mean()\n",
    "\n",
    "Fremont = Price[92:118]\n",
    "Fremont\n",
    "Col4=Fremont.loc[:,\"Price\"].mean()\n",
    "\n",
    "Hayward = Price[119:148]\n",
    "Hayward\n",
    "Col5=Hayward.loc[:,\"Price\"].mean()\n",
    "\n",
    "Dublin_SanRamon = Price[149:174]\n",
    "Dublin_SanRamon\n",
    "Col6=Dublin_SanRamon.loc[:,\"Price\"].mean()\n",
    "\n",
    "Berkeley = Price[175:197]\n",
    "Berkeley\n",
    "Col7=Berkeley.loc[:,\"Price\"].mean()\n",
    "\n",
    "df_afford=pd.DataFrame({'Cities':['SantaClara','SanFrancisco','PaloAlto','Fremont','Hayward','Dublin','Berkeley'],\n",
    "                   'Average Price':[Col1,Col2,Col3,Col4,Col5,Col6,Col7]})\n",
    "                  \n",
    "sns.barplot(x='Cities',y='Average Price',data=df_afford)\n",
    "plt.xticks(rotation=45)\n",
    "plt.show()\n"
   ]
  },
  {
   "cell_type": "markdown",
   "metadata": {},
   "source": [
    "## Multivariate Regression using sklearn\n",
    "- Regression coefficients tell an interesting story about the market’s perception of value associated with marginal changes to various aspects of the home and its location.\n",
    "- The pricing model can enable identification of undervalued listings and neighborhoods, offering investment recommendations of potential interest to individual homebuyers and investors alike.\n",
    "- Here Ordinary least squares (OLS) regression analysis is applied to the data using Statsmodels and Scikit-learn libraries. \n",
    "\n",
    "For building efficient predictive model, we would only include variables that uniquely explain some amount of variance in the price. Hence we are drawing a correlation plot here ."
   ]
  },
  {
   "cell_type": "markdown",
   "metadata": {},
   "source": [
    "### Creating dummies for Crime rate"
   ]
  },
  {
   "cell_type": "code",
   "execution_count": 268,
   "metadata": {},
   "outputs": [
    {
     "data": {
      "text/html": [
       "<div>\n",
       "<style scoped>\n",
       "    .dataframe tbody tr th:only-of-type {\n",
       "        vertical-align: middle;\n",
       "    }\n",
       "\n",
       "    .dataframe tbody tr th {\n",
       "        vertical-align: top;\n",
       "    }\n",
       "\n",
       "    .dataframe thead th {\n",
       "        text-align: right;\n",
       "    }\n",
       "</style>\n",
       "<table border=\"1\" class=\"dataframe\">\n",
       "  <thead>\n",
       "    <tr style=\"text-align: right;\">\n",
       "      <th></th>\n",
       "      <th>Bed</th>\n",
       "      <th>Bath</th>\n",
       "      <th>Size</th>\n",
       "      <th>Commute</th>\n",
       "      <th>Crime_High</th>\n",
       "      <th>Crime_Low</th>\n",
       "      <th>Crime_Lowest</th>\n",
       "      <th>Crime_Moderate</th>\n",
       "    </tr>\n",
       "  </thead>\n",
       "  <tbody>\n",
       "    <tr>\n",
       "      <th>0</th>\n",
       "      <td>3.0</td>\n",
       "      <td>2.0</td>\n",
       "      <td>1371.0</td>\n",
       "      <td>96.0</td>\n",
       "      <td>0</td>\n",
       "      <td>0</td>\n",
       "      <td>1</td>\n",
       "      <td>0</td>\n",
       "    </tr>\n",
       "    <tr>\n",
       "      <th>1</th>\n",
       "      <td>3.0</td>\n",
       "      <td>1.0</td>\n",
       "      <td>1458.0</td>\n",
       "      <td>92.0</td>\n",
       "      <td>0</td>\n",
       "      <td>0</td>\n",
       "      <td>0</td>\n",
       "      <td>1</td>\n",
       "    </tr>\n",
       "    <tr>\n",
       "      <th>2</th>\n",
       "      <td>3.0</td>\n",
       "      <td>2.0</td>\n",
       "      <td>1250.0</td>\n",
       "      <td>92.0</td>\n",
       "      <td>0</td>\n",
       "      <td>0</td>\n",
       "      <td>1</td>\n",
       "      <td>0</td>\n",
       "    </tr>\n",
       "    <tr>\n",
       "      <th>3</th>\n",
       "      <td>4.0</td>\n",
       "      <td>2.0</td>\n",
       "      <td>2113.0</td>\n",
       "      <td>94.0</td>\n",
       "      <td>0</td>\n",
       "      <td>0</td>\n",
       "      <td>1</td>\n",
       "      <td>0</td>\n",
       "    </tr>\n",
       "    <tr>\n",
       "      <th>4</th>\n",
       "      <td>3.0</td>\n",
       "      <td>2.0</td>\n",
       "      <td>1674.0</td>\n",
       "      <td>92.0</td>\n",
       "      <td>0</td>\n",
       "      <td>1</td>\n",
       "      <td>0</td>\n",
       "      <td>0</td>\n",
       "    </tr>\n",
       "  </tbody>\n",
       "</table>\n",
       "</div>"
      ],
      "text/plain": [
       "   Bed  Bath    Size  Commute  Crime_High  Crime_Low  Crime_Lowest  \\\n",
       "0  3.0   2.0  1371.0     96.0           0          0             1   \n",
       "1  3.0   1.0  1458.0     92.0           0          0             0   \n",
       "2  3.0   2.0  1250.0     92.0           0          0             1   \n",
       "3  4.0   2.0  2113.0     94.0           0          0             1   \n",
       "4  3.0   2.0  1674.0     92.0           0          1             0   \n",
       "\n",
       "   Crime_Moderate  \n",
       "0               0  \n",
       "1               1  \n",
       "2               0  \n",
       "3               0  \n",
       "4               0  "
      ]
     },
     "execution_count": 268,
     "metadata": {},
     "output_type": "execute_result"
    }
   ],
   "source": [
    "df4 = df3\n",
    "\n",
    "X = df4[['Bed','Bath','Size','Commute','Crime']]\n",
    "Y = df4['Price']\n",
    "X = pd.get_dummies(X)\n",
    "X.head()"
   ]
  },
  {
   "cell_type": "markdown",
   "metadata": {},
   "source": [
    "### Creating a train and test dataset"
   ]
  },
  {
   "cell_type": "code",
   "execution_count": 269,
   "metadata": {},
   "outputs": [
    {
     "name": "stdout",
     "output_type": "stream",
     "text": [
      "(158, 8)\n",
      "(40, 8)\n",
      "(158,)\n",
      "(40,)\n"
     ]
    }
   ],
   "source": [
    "from sklearn.model_selection import train_test_split\n",
    "X_train, X_test, y_train, y_test = train_test_split(X, Y, test_size=0.2, random_state=101)\n",
    "print(X_train.shape)\n",
    "print(X_test.shape)\n",
    "print(y_train.shape)\n",
    "print(y_test.shape)"
   ]
  },
  {
   "cell_type": "code",
   "execution_count": 270,
   "metadata": {},
   "outputs": [
    {
     "data": {
      "text/plain": [
       "LinearRegression(copy_X=True, fit_intercept=True, n_jobs=None, normalize=False)"
      ]
     },
     "execution_count": 270,
     "metadata": {},
     "output_type": "execute_result"
    }
   ],
   "source": [
    "from sklearn.linear_model import LinearRegression\n",
    "model = LinearRegression()\n",
    "model.fit(X_train,y_train)"
   ]
  },
  {
   "cell_type": "code",
   "execution_count": 271,
   "metadata": {},
   "outputs": [
    {
     "name": "stdout",
     "output_type": "stream",
     "text": [
      "201281.89522959944\n"
     ]
    }
   ],
   "source": [
    "# print the intercept\n",
    "print(model.intercept_)"
   ]
  },
  {
   "cell_type": "code",
   "execution_count": 272,
   "metadata": {},
   "outputs": [
    {
     "data": {
      "text/html": [
       "<div>\n",
       "<style scoped>\n",
       "    .dataframe tbody tr th:only-of-type {\n",
       "        vertical-align: middle;\n",
       "    }\n",
       "\n",
       "    .dataframe tbody tr th {\n",
       "        vertical-align: top;\n",
       "    }\n",
       "\n",
       "    .dataframe thead th {\n",
       "        text-align: right;\n",
       "    }\n",
       "</style>\n",
       "<table border=\"1\" class=\"dataframe\">\n",
       "  <thead>\n",
       "    <tr style=\"text-align: right;\">\n",
       "      <th></th>\n",
       "      <th>Coefficient</th>\n",
       "    </tr>\n",
       "  </thead>\n",
       "  <tbody>\n",
       "    <tr>\n",
       "      <th>Bed</th>\n",
       "      <td>280863.402320</td>\n",
       "    </tr>\n",
       "    <tr>\n",
       "      <th>Bath</th>\n",
       "      <td>291653.071930</td>\n",
       "    </tr>\n",
       "    <tr>\n",
       "      <th>Size</th>\n",
       "      <td>48.782759</td>\n",
       "    </tr>\n",
       "    <tr>\n",
       "      <th>Commute</th>\n",
       "      <td>-7042.140208</td>\n",
       "    </tr>\n",
       "    <tr>\n",
       "      <th>Crime_High</th>\n",
       "      <td>-580988.864606</td>\n",
       "    </tr>\n",
       "    <tr>\n",
       "      <th>Crime_Low</th>\n",
       "      <td>227621.881256</td>\n",
       "    </tr>\n",
       "    <tr>\n",
       "      <th>Crime_Lowest</th>\n",
       "      <td>163751.124224</td>\n",
       "    </tr>\n",
       "    <tr>\n",
       "      <th>Crime_Moderate</th>\n",
       "      <td>189615.859126</td>\n",
       "    </tr>\n",
       "  </tbody>\n",
       "</table>\n",
       "</div>"
      ],
      "text/plain": [
       "                  Coefficient\n",
       "Bed             280863.402320\n",
       "Bath            291653.071930\n",
       "Size                48.782759\n",
       "Commute          -7042.140208\n",
       "Crime_High     -580988.864606\n",
       "Crime_Low       227621.881256\n",
       "Crime_Lowest    163751.124224\n",
       "Crime_Moderate  189615.859126"
      ]
     },
     "execution_count": 272,
     "metadata": {},
     "output_type": "execute_result"
    }
   ],
   "source": [
    "coeff_parameter = pd.DataFrame(model.coef_,X.columns,columns=['Coefficient'])\n",
    "coeff_parameter"
   ]
  },
  {
   "cell_type": "code",
   "execution_count": 273,
   "metadata": {},
   "outputs": [
    {
     "data": {
      "text/plain": [
       "array([1559038.85907509, 1492588.06133467, 1934279.4773522 ,\n",
       "       1795928.08661704, 1516000.29976799, 1848111.70188781,\n",
       "       1540417.78206364, 1214599.35586745, 2669676.47647838,\n",
       "       1376376.93554118, 1256050.76413669, 1289736.97066094,\n",
       "       2355175.65039289, 1856418.70789838, 2250120.13148702,\n",
       "       1490114.07758462, 2424157.9576909 , 1456060.22580067,\n",
       "       1539740.08055106, 1179538.48904003, 1777120.48579618,\n",
       "       1828222.32572808,  966664.31593816,  619001.08624702,\n",
       "       1619597.45719425, 1200802.5780912 , 1534253.73151973,\n",
       "       1204030.9200408 , 1552622.21488655, 1827121.1785118 ,\n",
       "       2105228.202195  , 1503489.23342657,  888049.18828479,\n",
       "        901206.59627728, 1872914.25234075, 1813559.5714826 ,\n",
       "       1798290.56788497, 1765895.32991035,  630025.98980313,\n",
       "       1615325.48322487])"
      ]
     },
     "execution_count": 273,
     "metadata": {},
     "output_type": "execute_result"
    }
   ],
   "source": [
    "predictions = model.predict(X_test)\n",
    "predictions"
   ]
  },
  {
   "cell_type": "code",
   "execution_count": 274,
   "metadata": {},
   "outputs": [
    {
     "data": {
      "text/plain": [
       "<matplotlib.axes._subplots.AxesSubplot at 0x7fc1f99df510>"
      ]
     },
     "execution_count": 274,
     "metadata": {},
     "output_type": "execute_result"
    },
    {
     "data": {
      "image/png": "[encoded data removed]",
      "text/plain": [
       "<Figure size 432x288 with 1 Axes>"
      ]
     },
     "metadata": {
      "needs_background": "light"
     },
     "output_type": "display_data"
    }
   ],
   "source": [
    "sns.regplot(y_test,predictions)"
   ]
  },
  {
   "cell_type": "code",
   "execution_count": 275,
   "metadata": {},
   "outputs": [
    {
     "name": "stdout",
     "output_type": "stream",
     "text": [
      "                            OLS Regression Results                            \n",
      "==============================================================================\n",
      "Dep. Variable:                  Price   R-squared:                       0.373\n",
      "Model:                            OLS   Adj. R-squared:                  0.344\n",
      "Method:                 Least Squares   F-statistic:                     12.76\n",
      "Date:                Wed, 12 May 2021   Prob (F-statistic):           8.56e-13\n",
      "Time:                        23:57:03   Log-Likelihood:                -2345.1\n",
      "No. Observations:                 158   AIC:                             4706.\n",
      "Df Residuals:                     150   BIC:                             4731.\n",
      "Df Model:                           7                                         \n",
      "Covariance Type:            nonrobust                                         \n",
      "==================================================================================\n",
      "                     coef    std err          t      P>|t|      [0.025      0.975]\n",
      "----------------------------------------------------------------------------------\n",
      "const            1.61e+05    3.9e+05      0.413      0.681    -6.1e+05    9.32e+05\n",
      "Bed             2.809e+05   8.86e+04      3.169      0.002    1.06e+05    4.56e+05\n",
      "Bath            2.917e+05    7.3e+04      3.996      0.000    1.47e+05    4.36e+05\n",
      "Size              48.7828     44.542      1.095      0.275     -39.227     136.793\n",
      "Commute        -7042.1402   4513.490     -1.560      0.121    -1.6e+04    1876.089\n",
      "Crime_High     -5.407e+05   4.25e+05     -1.274      0.205   -1.38e+06    2.98e+05\n",
      "Crime_Low       2.679e+05   2.55e+05      1.051      0.295   -2.36e+05    7.72e+05\n",
      "Crime_Lowest     2.04e+05   1.72e+05      1.189      0.236   -1.35e+05    5.43e+05\n",
      "Crime_Moderate  2.299e+05   4.22e+05      0.545      0.587   -6.04e+05    1.06e+06\n",
      "==============================================================================\n",
      "Omnibus:                       61.839   Durbin-Watson:                   1.872\n",
      "Prob(Omnibus):                  0.000   Jarque-Bera (JB):              186.899\n",
      "Skew:                           1.559   Prob(JB):                     2.60e-41\n",
      "Kurtosis:                       7.320   Cond. No.                     7.24e+19\n",
      "==============================================================================\n",
      "\n",
      "Warnings:\n",
      "[1] Standard Errors assume that the covariance matrix of the errors is correctly specified.\n",
      "[2] The smallest eigenvalue is  2e-31. This might indicate that there are\n",
      "strong multicollinearity problems or that the design matrix is singular.\n"
     ]
    }
   ],
   "source": [
    "import statsmodels.api as sm\n",
    "\n",
    "X_train_Sm= sm.add_constant(X_train)\n",
    "X_train_Sm= sm.add_constant(X_train)\n",
    "ls=sm.OLS(y_train,X_train_Sm).fit()\n",
    "print(ls.summary())"
   ]
  },
  {
   "cell_type": "code",
   "execution_count": null,
   "metadata": {},
   "outputs": [],
   "source": []
  },
  {
   "cell_type": "code",
   "execution_count": null,
   "metadata": {},
   "outputs": [],
   "source": []
  },
  {
   "cell_type": "markdown",
   "metadata": {},
   "source": [
    "## Multivariate Regression using Statsmodel"
   ]
  },
  {
   "cell_type": "code",
   "execution_count": 236,
   "metadata": {},
   "outputs": [
    {
     "name": "stdout",
     "output_type": "stream",
     "text": [
      "                            OLS Regression Results                            \n",
      "==============================================================================\n",
      "Dep. Variable:                  Price   R-squared:                       0.367\n",
      "Model:                            OLS   Adj. R-squared:                  0.343\n",
      "Method:                 Least Squares   F-statistic:                     15.71\n",
      "Date:                Wed, 12 May 2021   Prob (F-statistic):           3.39e-16\n",
      "Time:                        23:08:09   Log-Likelihood:                -2927.1\n",
      "No. Observations:                 198   AIC:                             5870.\n",
      "Df Residuals:                     190   BIC:                             5897.\n",
      "Df Model:                           7                                         \n",
      "Covariance Type:            nonrobust                                         \n",
      "==================================================================================\n",
      "                     coef    std err          t      P>|t|      [0.025      0.975]\n",
      "----------------------------------------------------------------------------------\n",
      "Intercept       2.517e+05   3.27e+05      0.770      0.442   -3.93e+05    8.97e+05\n",
      "Bed             2.494e+05   7.29e+04      3.424      0.001    1.06e+05    3.93e+05\n",
      "Bath            2.902e+05   6.12e+04      4.740      0.000    1.69e+05    4.11e+05\n",
      "Size              56.7773     37.147      1.528      0.128     -16.496     130.051\n",
      "Commute        -6973.3432   3854.920     -1.809      0.072   -1.46e+04     630.596\n",
      "Crime_High     -5.585e+05    3.9e+05     -1.431      0.154   -1.33e+06    2.12e+05\n",
      "Crime_Low       3.092e+05   2.17e+05      1.422      0.157    -1.2e+05    7.38e+05\n",
      "Crime_Lowest    1.734e+05   1.48e+05      1.174      0.242   -1.18e+05    4.65e+05\n",
      "Crime_Moderate  3.277e+05   2.94e+05      1.114      0.267   -2.53e+05    9.08e+05\n",
      "==============================================================================\n",
      "Omnibus:                       80.823   Durbin-Watson:                   0.724\n",
      "Prob(Omnibus):                  0.000   Jarque-Bera (JB):              292.693\n",
      "Skew:                           1.638   Prob(JB):                     2.77e-64\n",
      "Kurtosis:                       7.974   Cond. No.                     3.44e+19\n",
      "==============================================================================\n",
      "\n",
      "Warnings:\n",
      "[1] Standard Errors assume that the covariance matrix of the errors is correctly specified.\n",
      "[2] The smallest eigenvalue is 1.1e-30. This might indicate that there are\n",
      "strong multicollinearity problems or that the design matrix is singular.\n"
     ]
    }
   ],
   "source": [
    "import statsmodels.formula.api as smf\n",
    "\n",
    "df5 = pd.get_dummies(df3, prefix='Crime', prefix_sep='_', columns = ['Crime'])\n",
    "mvr_model = smf.ols('Price ~ Bed+Bath+Size+Commute+Crime_High+Crime_Low+Crime_Lowest+Crime_Moderate', data=df5).fit()\n",
    "print(mvr_model.summary())"
   ]
  },
  {
   "cell_type": "code",
   "execution_count": null,
   "metadata": {},
   "outputs": [],
   "source": []
  },
  {
   "cell_type": "code",
   "execution_count": null,
   "metadata": {},
   "outputs": [],
   "source": []
  },
  {
   "cell_type": "code",
   "execution_count": null,
   "metadata": {},
   "outputs": [],
   "source": []
  }
 ],
 "metadata": {
  "kernelspec": {
   "display_name": "Python 3",
   "language": "python",
   "name": "python3"
  },
  "language_info": {
   "codemirror_mode": {
    "name": "ipython",
    "version": 3
   },
   "file_extension": ".py",
   "mimetype": "text/x-python",
   "name": "python",
   "nbconvert_exporter": "python",
   "pygments_lexer": "ipython3",
   "version": "3.7.6"
  }
 },
 "nbformat": 4,
 "nbformat_minor": 4
}
